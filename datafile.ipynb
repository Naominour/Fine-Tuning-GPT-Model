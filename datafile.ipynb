{
 "cells": [
  {
   "cell_type": "code",
   "execution_count": 4,
   "metadata": {},
   "outputs": [
    {
     "data": {
      "application/vnd.jupyter.widget-view+json": {
       "model_id": "c0fe6f22bfab4e2c83c2ecea02a2bb44",
       "version_major": 2,
       "version_minor": 0
      },
      "text/plain": [
       "Downloading data:   0%|          | 0.00/3.92M [00:00<?, ?B/s]"
      ]
     },
     "metadata": {},
     "output_type": "display_data"
    },
    {
     "data": {
      "application/vnd.jupyter.widget-view+json": {
       "model_id": "e3cba30366e54a46b62f719b8c63c6eb",
       "version_major": 2,
       "version_minor": 0
      },
      "text/plain": [
       "Generating train split:   0%|          | 0/3000 [00:00<?, ? examples/s]"
      ]
     },
     "metadata": {},
     "output_type": "display_data"
    }
   ],
   "source": [
    "from datasets import load_dataset\n",
    "\n",
    "# Load the dataset\n",
    "dataset = load_dataset(\"srikanthsri/medical_biological\", split=\"train\")\n"
   ]
  },
  {
   "cell_type": "code",
   "execution_count": 5,
   "metadata": {},
   "outputs": [
    {
     "name": "stdout",
     "output_type": "stream",
     "text": [
      "{'text': '###Question : What is (are) Hepatitis B: What Asian and Pacific Islander Americans Need to Know ? ###Answer : Hepatitis B is a liver disease spread through contact with blood, semen, or other body fluids from a person infected with the hepatitis B virus. The disease is most commonly spread from an infected mother to her infant at birth. Hepatitis B is also spread through sex, wound-to-wound contact, and contact with items that may have blood on them, such as shaving razors, toothbrushes, syringes, and tattoo and body piercing needles.\\n                \\nHepatitis B is not spread through casual contact such as shaking hands or hugging; nor is it spread by sharing food or beverages, by sneezing and coughing, or through breastfeeding.'}\n"
     ]
    }
   ],
   "source": [
    "print(dataset[0])  # Print the first example in the dataset\n"
   ]
  },
  {
   "cell_type": "code",
   "execution_count": 6,
   "metadata": {},
   "outputs": [
    {
     "data": {
      "application/vnd.jupyter.widget-view+json": {
       "model_id": "f485d8aa7c03429a901bdc020af8938a",
       "version_major": 2,
       "version_minor": 0
      },
      "text/plain": [
       "Creating CSV from Arrow format:   0%|          | 0/3 [00:00<?, ?ba/s]"
      ]
     },
     "metadata": {},
     "output_type": "display_data"
    },
    {
     "data": {
      "text/plain": [
       "3885681"
      ]
     },
     "execution_count": 6,
     "metadata": {},
     "output_type": "execute_result"
    }
   ],
   "source": [
    "dataset.to_csv(\"medical_biological.csv\")  # Save as CSV"
   ]
  },
  {
   "cell_type": "code",
   "execution_count": 16,
   "metadata": {},
   "outputs": [
    {
     "name": "stdout",
     "output_type": "stream",
     "text": [
      "File saved as 'formatted_medical_biological.csv'\n"
     ]
    }
   ],
   "source": [
    "import pandas as pd\n",
    "import re\n",
    "\n",
    "# Load the CSV file\n",
    "df = pd.read_csv('medical_biological.csv')\n",
    "\n",
    "# Function to clean and split the text\n",
    "def split_question_answer(text):\n",
    "    # Remove the starting ### and clean up any unnecessary whitespace\n",
    "    text = text.replace(\"###\", \"\").strip()\n",
    "    \n",
    "    # Attempt to split based on either '###Answer : ' or 'Answer : ' as the separator\n",
    "    if \"Answer :\" in text:\n",
    "        # Split using 'Answer :' as a flexible separator\n",
    "        question_part, answer_part = re.split(r\"Answer :\", text, maxsplit=1)\n",
    "        \n",
    "        # Remove specific extraneous text from the question part if it exists\n",
    "        question_part = re.sub(r\"B: What Asian and Pacific Islander Americans Need to Know ?\", \"\", question_part)\n",
    "        \n",
    "        # Clean up any remaining labels and extra spaces\n",
    "        question = question_part.replace(\"Question :\", \"\").strip()\n",
    "        answer = answer_part.strip()\n",
    "        \n",
    "        # Return None if either question or answer is empty after processing\n",
    "        if not question or not answer:\n",
    "            print(\"Empty question or answer in row:\", text)  # Debugging info\n",
    "            return None, None\n",
    "        \n",
    "        return question, answer\n",
    "    else:\n",
    "        print(\"Separator not found in row:\", text)  # Debugging info\n",
    "        return None, None\n",
    "\n",
    "# Apply the function to each row in the DataFrame\n",
    "df[['Question', 'Answer']] = df['text'].apply(lambda x: pd.Series(split_question_answer(x)))\n",
    "\n",
    "# Drop rows where question or answer is missing\n",
    "df = df.dropna(subset=['Question', 'Answer'])\n",
    "\n",
    "# Drop the original text column\n",
    "df = df.drop(columns=['text'])\n",
    "\n",
    "# Save to a new CSV file\n",
    "df.to_csv('formatted_medical_biological.csv', index=False)\n",
    "print(\"File saved as 'formatted_medical_biological.csv'\")"
   ]
  }
 ],
 "metadata": {
  "kernelspec": {
   "display_name": "Python 3",
   "language": "python",
   "name": "python3"
  },
  "language_info": {
   "codemirror_mode": {
    "name": "ipython",
    "version": 3
   },
   "file_extension": ".py",
   "mimetype": "text/x-python",
   "name": "python",
   "nbconvert_exporter": "python",
   "pygments_lexer": "ipython3",
   "version": "3.11.0"
  }
 },
 "nbformat": 4,
 "nbformat_minor": 2
}
